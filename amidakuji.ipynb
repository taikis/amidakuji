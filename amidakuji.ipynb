{
  "nbformat": 4,
  "nbformat_minor": 0,
  "metadata": {
    "celltoolbar": "Attachments",
    "kernelspec": {
      "display_name": "Python 3",
      "language": "python",
      "name": "python3"
    },
    "language_info": {
      "codemirror_mode": {
        "name": "ipython",
        "version": 3
      },
      "file_extension": ".py",
      "mimetype": "text/x-python",
      "name": "python",
      "nbconvert_exporter": "python",
      "pygments_lexer": "ipython3",
      "version": "3.8.5"
    },
    "colab": {
      "name": "amidakuji.ipynb",
      "provenance": [],
      "collapsed_sections": [],
      "include_colab_link": true
    }
  },
  "cells": [
    {
      "cell_type": "markdown",
      "metadata": {
        "id": "view-in-github",
        "colab_type": "text"
      },
      "source": [
        "<a href=\"https://colab.research.google.com/github/taikis/amidakuji/blob/main/amidakuji.ipynb\" target=\"_parent\"><img src=\"https://colab.research.google.com/assets/colab-badge.svg\" alt=\"Open In Colab\"/></a>"
      ]
    },
    {
      "cell_type": "markdown",
      "metadata": {
        "id": "_Pd5lX5eFL_O"
      },
      "source": [
        "# 阿弥陀籤は不公平なのか？\n",
        "\n",
        "\n",
        "\n",
        "## アルゴリズム\n",
        "\n",
        "1. 位置を初期化\n",
        "1. `v_num-2`個の場所から置換場所sを決定\n",
        "1. `s`と`s+1`を置換\n",
        "1. 上二つを`h_num`回ループ\n",
        "1. 位置を配列にインクリメント\n",
        "1. 上三つを`test_num`回ループ\n",
        "\n",
        "## 変数定義\n",
        "\n",
        "- 縦棒の本数 `v_num`\n",
        "- 横棒の本数　`h_num`\n",
        "- 位置　`potision[v_num]`\n",
        "- 試行回数　`test_num`\n",
        "- 置換場所 `s`\n",
        "- 結果保管用配列 `result[v_num][v_num]`\n"
      ]
    },
    {
      "cell_type": "code",
      "metadata": {
        "id": "bBeLy52YFL_R"
      },
      "source": [
        "import random\n",
        "import numpy as np\n",
        "import pandas as pd\n",
        "import tqdm\n",
        "from google.colab import files\n",
        "\n",
        "#縦棒の本数\n",
        "v_num = 100 #@param {type:\"slider\", min:0, max:100, step:1}\n",
        "#横棒の本数\n",
        "h_num = 10000 #@param {type:\"slider\", min:0, max:10000, step:1}\n",
        "#試行回数\n",
        "test_num = 10000 #@param {type:\"slider\", min:0, max:10000, step:1}\n",
        "potision = []\n",
        "result = np.zeros((v_num,v_num))"
      ],
      "execution_count": null,
      "outputs": []
    },
    {
      "cell_type": "markdown",
      "metadata": {
        "id": "CnF0U8aPFL_R"
      },
      "source": [
        "## 位置を初期化, 置換関数"
      ]
    },
    {
      "cell_type": "code",
      "metadata": {
        "id": "j4DBBvUDFL_S"
      },
      "source": [
        "def repoti(potision):\n",
        "    potision = list(range(v_num ))\n",
        "    #print(potision)\n",
        "    return potision\n",
        "\n",
        "def swap(potision):\n",
        "    s = random.randint(0,v_num-2)\n",
        "    temp = potision[s]\n",
        "    potision[s] = potision [s+1]\n",
        "    potision [s+1] = temp\n",
        "    #print(potision)\n",
        "    return potision"
      ],
      "execution_count": null,
      "outputs": []
    },
    {
      "cell_type": "markdown",
      "metadata": {
        "id": "KVsmADvuFL_U"
      },
      "source": [
        "## 作成、記録"
      ]
    },
    {
      "cell_type": "code",
      "metadata": {
        "colab": {
          "base_uri": "https://localhost:8080/"
        },
        "id": "l7Jrt3ZfFL_U",
        "outputId": "23c49e7b-d39c-49bb-dfb3-c8c8c5f8355a"
      },
      "source": [
        "for i in tqdm.tqdm(range(test_num)):\n",
        "    potision = repoti(potision)\n",
        "    for j in range(h_num):\n",
        "        swap(potision)\n",
        "    for j in range(v_num):\n",
        "        result[j][potision[j]] += 1\n",
        " #   print(potision)"
      ],
      "execution_count": null,
      "outputs": [
        {
          "output_type": "stream",
          "text": [
            "100%|██████████| 10000/10000 [02:54<00:00, 57.27it/s]\n"
          ],
          "name": "stderr"
        }
      ]
    },
    {
      "cell_type": "markdown",
      "metadata": {
        "id": "TNBO6nxBFL_X"
      },
      "source": [
        "## 表の描画"
      ]
    },
    {
      "cell_type": "code",
      "metadata": {
        "scrolled": true,
        "colab": {
          "base_uri": "https://localhost:8080/",
          "height": 53
        },
        "id": "0HtuvauJFL_Y",
        "outputId": "fe4a305c-7859-4725-ae98-e6a322e0afc1"
      },
      "source": [
        "print(\"\\t 結果\")\n",
        "print(\"場所\")\n",
        "sheet = pd.DataFrame(result)\n",
        "sheet.to_csv(\"result.csv\")\n",
        "\n",
        "files.download('result.csv')"
      ],
      "execution_count": null,
      "outputs": [
        {
          "output_type": "stream",
          "text": [
            "\t 結果\n",
            "場所\n"
          ],
          "name": "stdout"
        },
        {
          "output_type": "display_data",
          "data": {
            "application/javascript": [
              "\n",
              "    async function download(id, filename, size) {\n",
              "      if (!google.colab.kernel.accessAllowed) {\n",
              "        return;\n",
              "      }\n",
              "      const div = document.createElement('div');\n",
              "      const label = document.createElement('label');\n",
              "      label.textContent = `Downloading \"${filename}\": `;\n",
              "      div.appendChild(label);\n",
              "      const progress = document.createElement('progress');\n",
              "      progress.max = size;\n",
              "      div.appendChild(progress);\n",
              "      document.body.appendChild(div);\n",
              "\n",
              "      const buffers = [];\n",
              "      let downloaded = 0;\n",
              "\n",
              "      const channel = await google.colab.kernel.comms.open(id);\n",
              "      // Send a message to notify the kernel that we're ready.\n",
              "      channel.send({})\n",
              "\n",
              "      for await (const message of channel.messages) {\n",
              "        // Send a message to notify the kernel that we're ready.\n",
              "        channel.send({})\n",
              "        if (message.buffers) {\n",
              "          for (const buffer of message.buffers) {\n",
              "            buffers.push(buffer);\n",
              "            downloaded += buffer.byteLength;\n",
              "            progress.value = downloaded;\n",
              "          }\n",
              "        }\n",
              "      }\n",
              "      const blob = new Blob(buffers, {type: 'application/binary'});\n",
              "      const a = document.createElement('a');\n",
              "      a.href = window.URL.createObjectURL(blob);\n",
              "      a.download = filename;\n",
              "      div.appendChild(a);\n",
              "      a.click();\n",
              "      div.remove();\n",
              "    }\n",
              "  "
            ],
            "text/plain": [
              "<IPython.core.display.Javascript object>"
            ]
          },
          "metadata": {
            "tags": []
          }
        },
        {
          "output_type": "display_data",
          "data": {
            "application/javascript": [
              "download(\"download_af7009cb-b4ef-43a7-b6ce-9e083d21731a\", \"result.csv\", 50437)"
            ],
            "text/plain": [
              "<IPython.core.display.Javascript object>"
            ]
          },
          "metadata": {
            "tags": []
          }
        }
      ]
    }
  ]
}